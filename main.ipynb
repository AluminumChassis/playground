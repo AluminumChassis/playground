{
 "cells": [
  {
   "cell_type": "code",
   "execution_count": 1,
   "metadata": {},
   "outputs": [
    {
     "name": "stdout",
     "output_type": "stream",
     "text": [
      "Imported analysis\n",
      "Initial result:\n",
      "tensor([21.8301], grad_fn=<AddBackward0>)\n",
      "Final result:\n",
      "tensor([54.1437], grad_fn=<AddBackward0>)\n"
     ]
    }
   ],
   "source": [
    "import analysis\n",
    "path_to_file = \"./datasets/Stocks/wfc.us.txt\"\n",
    "path_to_model = \"model\"\n",
    "\n",
    "wf_data = analysis.data(path_to_file)\n",
    "wf_data.read_file()\n",
    "\n",
    "#print(\"Expected result:\")\n",
    "#print(0.7315)\n",
    "\n",
    "model = analysis.model([4,10,1], .000001)\n",
    "\n",
    "print(\"Initial result:\")\n",
    "print(model.test([54.02,54.13,53.791,53.81]))\n",
    "\n",
    "model.fit(wf_data, 10)\n",
    "\n",
    "print(\"Final result:\")\n",
    "print(model.test([54.02,54.13,53.791,53.81]))"
   ]
  },
  {
   "cell_type": "code",
   "execution_count": null,
   "metadata": {},
   "outputs": [],
   "source": [
    "from matplotlib import pyplot\n"
   ]
  }
 ],
 "metadata": {
  "kernelspec": {
   "display_name": "Python 3",
   "language": "python",
   "name": "python3"
  },
  "language_info": {
   "codemirror_mode": {
    "name": "ipython",
    "version": 3
   },
   "file_extension": ".py",
   "mimetype": "text/x-python",
   "name": "python",
   "nbconvert_exporter": "python",
   "pygments_lexer": "ipython3",
   "version": "3.7.4"
  }
 },
 "nbformat": 4,
 "nbformat_minor": 4
}
