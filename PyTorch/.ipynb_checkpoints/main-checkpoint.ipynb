{
 "cells": [
  {
   "cell_type": "code",
   "execution_count": 1,
   "metadata": {},
   "outputs": [
    {
     "name": "stdout",
     "output_type": "stream",
     "text": [
      "{\"message\":\"Client key or secret is not recognized\"}\n"
     ]
    }
   ],
   "source": [
    "import requests\n",
    "\n",
    "url = 'https://dataondemand.nasdaq.com/api/v1/authenticate'\n",
    "\n",
    "payload = {'client_key':'__key__', 'client_secret':'__secret__'}\n",
    "headers = {'Content-Type': 'application/json'}\n",
    "\n",
    "response = requests.request('POST', url, json=payload, headers=headers)\n",
    "\n",
    "print(response.text)\n"
   ]
  },
  {
   "cell_type": "code",
   "execution_count": 1,
   "metadata": {},
   "outputs": [
    {
     "name": "stdout",
     "output_type": "stream",
     "text": [
      "Imported analysis\n",
      "Initial result:\n",
      "tensor([-23.7597], grad_fn=<AddBackward0>)\n",
      "Final result:\n",
      "tensor([54.2778], grad_fn=<AddBackward0>)\n"
     ]
    }
   ],
   "source": [
    "import analysis\n",
    "path_to_file = \"./datasets/Stocks/wfc.us.txt\"\n",
    "path_to_model = \"model\"\n",
    "\n",
    "wf_data = analysis.data(path_to_file)\n",
    "wf_data.read_file()\n",
    "\n",
    "#print(\"Expected result:\")\n",
    "#print(0.7315)\n",
    "\n",
    "model = analysis.model([4,10,10,1], .000001)\n",
    "\n",
    "print(\"Initial result:\")\n",
    "print(model.test([54.02,54.13,53.791,53.81]))\n",
    "\n",
    "model.fit(wf_data, 10)\n",
    "\n",
    "print(\"Final result:\")\n",
    "print(model.test([54.02,54.13,53.791,53.81]))"
   ]
  },
  {
   "cell_type": "code",
   "execution_count": null,
   "metadata": {},
   "outputs": [],
   "source": [
    "from matplotlib import pyplot\n"
   ]
  },
  {
   "cell_type": "code",
   "execution_count": 1,
   "metadata": {},
   "outputs": [
    {
     "name": "stdout",
     "output_type": "stream",
     "text": [
      "Imported analysis\n"
     ]
    },
    {
     "ename": "TypeError",
     "evalue": "__init__() got an unexpected keyword argument 'device'",
     "output_type": "error",
     "traceback": [
      "\u001b[1;31m---------------------------------------------------------------------------\u001b[0m",
      "\u001b[1;31mTypeError\u001b[0m                                 Traceback (most recent call last)",
      "\u001b[1;32m<ipython-input-1-b5e8bb3fd926>\u001b[0m in \u001b[0;36m<module>\u001b[1;34m\u001b[0m\n\u001b[0;32m      6\u001b[0m \u001b[1;33m\u001b[0m\u001b[0m\n\u001b[0;32m      7\u001b[0m \u001b[0mwf_data\u001b[0m \u001b[1;33m=\u001b[0m \u001b[0manalysis\u001b[0m\u001b[1;33m.\u001b[0m\u001b[0mdata\u001b[0m\u001b[1;33m(\u001b[0m\u001b[0mpath_to_file\u001b[0m\u001b[1;33m)\u001b[0m\u001b[1;33m\u001b[0m\u001b[1;33m\u001b[0m\u001b[0m\n\u001b[1;32m----> 8\u001b[1;33m \u001b[0mwf_data\u001b[0m\u001b[1;33m.\u001b[0m\u001b[0mread_file\u001b[0m\u001b[1;33m(\u001b[0m\u001b[1;33m)\u001b[0m\u001b[1;33m\u001b[0m\u001b[1;33m\u001b[0m\u001b[0m\n\u001b[0m\u001b[0;32m      9\u001b[0m \u001b[1;33m\u001b[0m\u001b[0m\n\u001b[0;32m     10\u001b[0m \u001b[0mrun_iterations\u001b[0m \u001b[1;33m=\u001b[0m \u001b[1;36m1000\u001b[0m\u001b[1;33m\u001b[0m\u001b[1;33m\u001b[0m\u001b[0m\n",
      "\u001b[1;32m~\\Documents\\Programming\\QuantitativeAnalysis\\Playground\\analysis.py\u001b[0m in \u001b[0;36mread_file\u001b[1;34m(self)\u001b[0m\n\u001b[0;32m     27\u001b[0m         \u001b[0my_tensor\u001b[0m \u001b[1;33m=\u001b[0m \u001b[0mtorch\u001b[0m\u001b[1;33m.\u001b[0m\u001b[0mfrom_numpy\u001b[0m\u001b[1;33m(\u001b[0m\u001b[0mself\u001b[0m\u001b[1;33m.\u001b[0m\u001b[0my\u001b[0m\u001b[1;33m)\u001b[0m\u001b[1;33m\u001b[0m\u001b[1;33m\u001b[0m\u001b[0m\n\u001b[0;32m     28\u001b[0m         \u001b[0my_tensor\u001b[0m \u001b[1;33m=\u001b[0m \u001b[0mtorch\u001b[0m\u001b[1;33m.\u001b[0m\u001b[0munsqueeze\u001b[0m\u001b[1;33m(\u001b[0m\u001b[0my_tensor\u001b[0m\u001b[1;33m,\u001b[0m \u001b[1;36m1\u001b[0m\u001b[1;33m)\u001b[0m\u001b[1;33m\u001b[0m\u001b[1;33m\u001b[0m\u001b[0m\n\u001b[1;32m---> 29\u001b[1;33m         \u001b[0mself\u001b[0m\u001b[1;33m.\u001b[0m\u001b[0mtrain_ds\u001b[0m \u001b[1;33m=\u001b[0m \u001b[0mTensorDataset\u001b[0m\u001b[1;33m(\u001b[0m\u001b[0mx_tensor\u001b[0m\u001b[1;33m.\u001b[0m\u001b[0mfloat\u001b[0m\u001b[1;33m(\u001b[0m\u001b[1;33m)\u001b[0m\u001b[1;33m,\u001b[0m \u001b[0my_tensor\u001b[0m\u001b[1;33m.\u001b[0m\u001b[0mfloat\u001b[0m\u001b[1;33m(\u001b[0m\u001b[1;33m)\u001b[0m\u001b[1;33m,\u001b[0m \u001b[0mdevice\u001b[0m\u001b[1;33m=\u001b[0m\u001b[0mcuda0\u001b[0m\u001b[1;33m)\u001b[0m\u001b[1;33m\u001b[0m\u001b[1;33m\u001b[0m\u001b[0m\n\u001b[0m\u001b[0;32m     30\u001b[0m         \u001b[0mself\u001b[0m\u001b[1;33m.\u001b[0m\u001b[0mtrain_dl\u001b[0m \u001b[1;33m=\u001b[0m \u001b[0mDataLoader\u001b[0m\u001b[1;33m(\u001b[0m\u001b[0mself\u001b[0m\u001b[1;33m.\u001b[0m\u001b[0mtrain_ds\u001b[0m\u001b[1;33m,\u001b[0m \u001b[0mbatch_size\u001b[0m\u001b[1;33m=\u001b[0m\u001b[1;36m64\u001b[0m\u001b[1;33m)\u001b[0m\u001b[1;33m\u001b[0m\u001b[1;33m\u001b[0m\u001b[0m\n\u001b[0;32m     31\u001b[0m \u001b[1;33m\u001b[0m\u001b[0m\n",
      "\u001b[1;31mTypeError\u001b[0m: __init__() got an unexpected keyword argument 'device'"
     ]
    }
   ],
   "source": [
    "import analysis\n",
    "import time\n",
    "\n",
    "path_to_file = \"./datasets/Stocks/wfc.us.txt\"\n",
    "path_to_model = \"model\"\n",
    "\n",
    "wf_data = analysis.data(path_to_file)\n",
    "wf_data.read_file()\n",
    "\n",
    "run_iterations = 1000\n",
    "layers = 3\n",
    "neurons_per_layer = 100\n",
    "\n",
    "layer_array = [4] + [neurons_per_layer]*layers + [1]\n",
    "print(layer_array)\n",
    "model = analysis.model(layer_array, .0000001)\n",
    "\n",
    "print(\"Initial result:\")\n",
    "\n",
    "start = time.time()\n",
    "\n",
    "for i in range(run_iterations):\n",
    "    model.test([54.02 + i,54.13,53.791,53.81])\n",
    "end = time.time()\n",
    "print(end - start, \"s\")\n",
    "print(run_iterations/(end - start), \"it/s\")\n",
    "\n",
    "\n",
    "start = time.time()\n",
    "print(\"Training:\")\n",
    "model.fit(wf_data, 10)\n",
    "end = time.time()\n",
    "print(end - start, \"s\")\n",
    "\n",
    "print(model.test([54.02, 54.13,53.791,53.81]))\n",
    "\n",
    "start = time.time()\n",
    "print(\"Final result:\")\n",
    "for i in range(run_iterations):\n",
    "    model.test([54.02 + i, 54.13,53.791,53.81])\n",
    "end = time.time()\n",
    "print(end - start, \"s\")\n",
    "print(run_iterations/(end - start), \"it/s\")\n"
   ]
  }
 ],
 "metadata": {
  "kernelspec": {
   "display_name": "Python 3",
   "language": "python",
   "name": "python3"
  },
  "language_info": {
   "codemirror_mode": {
    "name": "ipython",
    "version": 3
   },
   "file_extension": ".py",
   "mimetype": "text/x-python",
   "name": "python",
   "nbconvert_exporter": "python",
   "pygments_lexer": "ipython3",
   "version": "3.7.4"
  }
 },
 "nbformat": 4,
 "nbformat_minor": 4
}
