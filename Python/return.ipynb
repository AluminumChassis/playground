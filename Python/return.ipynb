{
 "cells": [
  {
   "cell_type": "code",
   "execution_count": 127,
   "metadata": {},
   "outputs": [],
   "source": [
    "%matplotlib inline\n",
    "import matplotlib\n",
    "import matplotlib.pyplot as plt\n",
    "import datetime as dt\n",
    "import requests\n",
    "import json\n",
    "import pandas\n",
    "import os.path as path\n",
    "import os \n",
    "import numpy as np\n",
    "import calendar\n",
    "\n",
    "def pad_day(day):\n",
    "    if day < 10:\n",
    "        day = \"0\" + str(day)\n",
    "    return str(day)\n",
    "apikey = 'ZUB2XVF70GNQ804B'\n"
   ]
  },
  {
   "cell_type": "code",
   "execution_count": null,
   "metadata": {},
   "outputs": [],
   "source": [
    "\n",
    "\n",
    "for x in range(1,6):\n",
    "    day = pad_day(x)\n",
    "    url = 'https://cloud.iexapis.com/stable/stock/AAPL/intraday-prices?token=' + token + '&exactDate=202102' + day\n",
    "    print(url)\n",
    "    headers = {'Content-Type': 'application/json'}\n",
    "    response = requests.request('GET', url)\n",
    "\n",
    "    with open('datasets/AAPL/AAPL_daily' + str(x) + '.json', 'w') as outfile:\n",
    "        json.dump(response.json(), outfile)\n",
    "\n",
    "    with open('datasets/AAPL/AAPL_daily' + str(x) + '.json', 'r') as json_file:\n",
    "        data = pandas.read_json(json_file)\n",
    "    print(data)"
   ]
  },
  {
   "cell_type": "code",
   "execution_count": 125,
   "metadata": {},
   "outputs": [],
   "source": [
    "def stockMonthlyData(symbol):\n",
    "    urlfirst = 'https://www.alphavantage.co/query?function=TIME_SERIES_MONTHLY&symbol=' + symbol + '&apikey=' + apikey\n",
    "    print(urlfirst)\n",
    "    headers = {'Content-Type': 'application/json'}\n",
    "    response = requests.request('GET', urlfirst)\n",
    "    os.mkdir('datasets/'+symbol)\n",
    "    with open('datasets/'+symbol+'/monthly.json', 'w') as outfile:\n",
    "        json.dump(response.json()[\"Monthly Time Series\"], outfile)\n",
    "    with open('datasets/'+symbol+'/monthly.json', 'r') as json_file:\n",
    "        monthlydata = pandas.read_json(json_file)\n",
    "        \n",
    "    return monthlydata"
   ]
  },
  {
   "cell_type": "code",
   "execution_count": 116,
   "metadata": {},
   "outputs": [],
   "source": [
    "def stockReturn(symbol, year):\n",
    "    if(not path.exists(\"datasets/\" + symbol + \"/monthly.json\")):\n",
    "        monthlydata = stockMonthlyData(symbol)\n",
    "    else:\n",
    "        with open('datasets/'+symbol+'/monthly.json', 'r') as json_file:\n",
    "            monthlydata = pandas.read_json(json_file)\n",
    "            \n",
    "    keys = pandas.Index(monthlydata.keys().to_period(\"M\"))\n",
    "    \n",
    "    initialdate = str(year-1)+\"-12\"\n",
    "    initialdate = keys.get_loc(initialdate)\n",
    "    openValue = monthlydata[monthlydata.keys()[initialdate]][\"4. close\"]\n",
    "    \n",
    "    finaldate = str(year)+\"-12\"\n",
    "    finaldate = keys.get_loc(finaldate)\n",
    "    closeValue = monthlydata[monthlydata.keys()[finaldate]][\"4. close\"]\n",
    "    \n",
    "    \n",
    "    return (closeValue - openValue) / openValue"
   ]
  },
  {
   "cell_type": "code",
   "execution_count": 46,
   "metadata": {},
   "outputs": [
    {
     "name": "stdout",
     "output_type": "stream",
     "text": [
      "https://www.alphavantage.co/query?function=TIME_SERIES_MONTHLY&symbol=WFC&apikey=ZUB2XVF70GNQ804B\n"
     ]
    }
   ],
   "source": [
    "wfdata = stockMonthlyData(\"WFC\")"
   ]
  },
  {
   "cell_type": "code",
   "execution_count": 47,
   "metadata": {},
   "outputs": [
    {
     "data": {
      "text/html": [
       "<div>\n",
       "<style scoped>\n",
       "    .dataframe tbody tr th:only-of-type {\n",
       "        vertical-align: middle;\n",
       "    }\n",
       "\n",
       "    .dataframe tbody tr th {\n",
       "        vertical-align: top;\n",
       "    }\n",
       "\n",
       "    .dataframe thead th {\n",
       "        text-align: right;\n",
       "    }\n",
       "</style>\n",
       "<table border=\"1\" class=\"dataframe\">\n",
       "  <thead>\n",
       "    <tr style=\"text-align: right;\">\n",
       "      <th></th>\n",
       "      <th>2021-04-01</th>\n",
       "      <th>2021-03-31</th>\n",
       "      <th>2021-02-26</th>\n",
       "      <th>2021-01-29</th>\n",
       "      <th>2020-12-31</th>\n",
       "      <th>2020-11-30</th>\n",
       "      <th>2020-10-30</th>\n",
       "      <th>2020-09-30</th>\n",
       "      <th>2020-08-31</th>\n",
       "      <th>2020-07-31</th>\n",
       "      <th>...</th>\n",
       "      <th>2000-09-29</th>\n",
       "      <th>2000-08-31</th>\n",
       "      <th>2000-07-31</th>\n",
       "      <th>2000-06-30</th>\n",
       "      <th>2000-05-31</th>\n",
       "      <th>2000-04-28</th>\n",
       "      <th>2000-03-31</th>\n",
       "      <th>2000-02-29</th>\n",
       "      <th>2000-01-31</th>\n",
       "      <th>1999-12-31</th>\n",
       "    </tr>\n",
       "  </thead>\n",
       "  <tbody>\n",
       "    <tr>\n",
       "      <td>1. open</td>\n",
       "      <td>38.96</td>\n",
       "      <td>3.711000e+01</td>\n",
       "      <td>3.014000e+01</td>\n",
       "      <td>3.032000e+01</td>\n",
       "      <td>2.815000e+01</td>\n",
       "      <td>2.170000e+01</td>\n",
       "      <td>2.357000e+01</td>\n",
       "      <td>2.402000e+01</td>\n",
       "      <td>2.425000e+01</td>\n",
       "      <td>2.573000e+01</td>\n",
       "      <td>...</td>\n",
       "      <td>44.00</td>\n",
       "      <td>41.75</td>\n",
       "      <td>40.25</td>\n",
       "      <td>45.25</td>\n",
       "      <td>41.13</td>\n",
       "      <td>4.094000e+01</td>\n",
       "      <td>3.306000e+01</td>\n",
       "      <td>40.00</td>\n",
       "      <td>4.031000e+01</td>\n",
       "      <td>46.38</td>\n",
       "    </tr>\n",
       "    <tr>\n",
       "      <td>2. high</td>\n",
       "      <td>39.65</td>\n",
       "      <td>4.154000e+01</td>\n",
       "      <td>3.868000e+01</td>\n",
       "      <td>3.510000e+01</td>\n",
       "      <td>3.049000e+01</td>\n",
       "      <td>2.873000e+01</td>\n",
       "      <td>2.574000e+01</td>\n",
       "      <td>2.600000e+01</td>\n",
       "      <td>2.614000e+01</td>\n",
       "      <td>2.685000e+01</td>\n",
       "      <td>...</td>\n",
       "      <td>47.13</td>\n",
       "      <td>45.81</td>\n",
       "      <td>44.06</td>\n",
       "      <td>47.75</td>\n",
       "      <td>45.63</td>\n",
       "      <td>4.550000e+01</td>\n",
       "      <td>4.262000e+01</td>\n",
       "      <td>40.69</td>\n",
       "      <td>4.375000e+01</td>\n",
       "      <td>48.63</td>\n",
       "    </tr>\n",
       "    <tr>\n",
       "      <td>3. low</td>\n",
       "      <td>38.92</td>\n",
       "      <td>3.634000e+01</td>\n",
       "      <td>2.968000e+01</td>\n",
       "      <td>2.940020e+01</td>\n",
       "      <td>2.784500e+01</td>\n",
       "      <td>2.117000e+01</td>\n",
       "      <td>2.076000e+01</td>\n",
       "      <td>2.255500e+01</td>\n",
       "      <td>2.352000e+01</td>\n",
       "      <td>2.333000e+01</td>\n",
       "      <td>...</td>\n",
       "      <td>42.69</td>\n",
       "      <td>40.94</td>\n",
       "      <td>39.88</td>\n",
       "      <td>37.31</td>\n",
       "      <td>39.25</td>\n",
       "      <td>3.788000e+01</td>\n",
       "      <td>3.100000e+01</td>\n",
       "      <td>32.00</td>\n",
       "      <td>3.544000e+01</td>\n",
       "      <td>38.50</td>\n",
       "    </tr>\n",
       "    <tr>\n",
       "      <td>4. close</td>\n",
       "      <td>39.63</td>\n",
       "      <td>3.907000e+01</td>\n",
       "      <td>3.617000e+01</td>\n",
       "      <td>2.988000e+01</td>\n",
       "      <td>3.018000e+01</td>\n",
       "      <td>2.735000e+01</td>\n",
       "      <td>2.145000e+01</td>\n",
       "      <td>2.351000e+01</td>\n",
       "      <td>2.415000e+01</td>\n",
       "      <td>2.426000e+01</td>\n",
       "      <td>...</td>\n",
       "      <td>45.94</td>\n",
       "      <td>43.21</td>\n",
       "      <td>41.50</td>\n",
       "      <td>38.75</td>\n",
       "      <td>45.25</td>\n",
       "      <td>4.106000e+01</td>\n",
       "      <td>4.075000e+01</td>\n",
       "      <td>33.06</td>\n",
       "      <td>4.000000e+01</td>\n",
       "      <td>40.44</td>\n",
       "    </tr>\n",
       "    <tr>\n",
       "      <td>5. volume</td>\n",
       "      <td>22706933.00</td>\n",
       "      <td>7.815674e+08</td>\n",
       "      <td>6.536382e+08</td>\n",
       "      <td>7.978371e+08</td>\n",
       "      <td>7.361271e+08</td>\n",
       "      <td>8.676820e+08</td>\n",
       "      <td>8.206210e+08</td>\n",
       "      <td>9.976711e+08</td>\n",
       "      <td>7.362361e+08</td>\n",
       "      <td>1.031616e+09</td>\n",
       "      <td>...</td>\n",
       "      <td>70172400.00</td>\n",
       "      <td>69630200.00</td>\n",
       "      <td>57451000.00</td>\n",
       "      <td>89251700.00</td>\n",
       "      <td>76132200.00</td>\n",
       "      <td>1.006484e+08</td>\n",
       "      <td>1.272604e+08</td>\n",
       "      <td>98403500.00</td>\n",
       "      <td>1.072874e+08</td>\n",
       "      <td>84749100.00</td>\n",
       "    </tr>\n",
       "  </tbody>\n",
       "</table>\n",
       "<p>5 rows × 257 columns</p>\n",
       "</div>"
      ],
      "text/plain": [
       "            2021-04-01    2021-03-31    2021-02-26    2021-01-29  \\\n",
       "1. open          38.96  3.711000e+01  3.014000e+01  3.032000e+01   \n",
       "2. high          39.65  4.154000e+01  3.868000e+01  3.510000e+01   \n",
       "3. low           38.92  3.634000e+01  2.968000e+01  2.940020e+01   \n",
       "4. close         39.63  3.907000e+01  3.617000e+01  2.988000e+01   \n",
       "5. volume  22706933.00  7.815674e+08  6.536382e+08  7.978371e+08   \n",
       "\n",
       "             2020-12-31    2020-11-30    2020-10-30    2020-09-30  \\\n",
       "1. open    2.815000e+01  2.170000e+01  2.357000e+01  2.402000e+01   \n",
       "2. high    3.049000e+01  2.873000e+01  2.574000e+01  2.600000e+01   \n",
       "3. low     2.784500e+01  2.117000e+01  2.076000e+01  2.255500e+01   \n",
       "4. close   3.018000e+01  2.735000e+01  2.145000e+01  2.351000e+01   \n",
       "5. volume  7.361271e+08  8.676820e+08  8.206210e+08  9.976711e+08   \n",
       "\n",
       "             2020-08-31    2020-07-31  ...   2000-09-29   2000-08-31  \\\n",
       "1. open    2.425000e+01  2.573000e+01  ...        44.00        41.75   \n",
       "2. high    2.614000e+01  2.685000e+01  ...        47.13        45.81   \n",
       "3. low     2.352000e+01  2.333000e+01  ...        42.69        40.94   \n",
       "4. close   2.415000e+01  2.426000e+01  ...        45.94        43.21   \n",
       "5. volume  7.362361e+08  1.031616e+09  ...  70172400.00  69630200.00   \n",
       "\n",
       "            2000-07-31   2000-06-30   2000-05-31    2000-04-28    2000-03-31  \\\n",
       "1. open          40.25        45.25        41.13  4.094000e+01  3.306000e+01   \n",
       "2. high          44.06        47.75        45.63  4.550000e+01  4.262000e+01   \n",
       "3. low           39.88        37.31        39.25  3.788000e+01  3.100000e+01   \n",
       "4. close         41.50        38.75        45.25  4.106000e+01  4.075000e+01   \n",
       "5. volume  57451000.00  89251700.00  76132200.00  1.006484e+08  1.272604e+08   \n",
       "\n",
       "            2000-02-29    2000-01-31   1999-12-31  \n",
       "1. open          40.00  4.031000e+01        46.38  \n",
       "2. high          40.69  4.375000e+01        48.63  \n",
       "3. low           32.00  3.544000e+01        38.50  \n",
       "4. close         33.06  4.000000e+01        40.44  \n",
       "5. volume  98403500.00  1.072874e+08  84749100.00  \n",
       "\n",
       "[5 rows x 257 columns]"
      ]
     },
     "execution_count": 47,
     "metadata": {},
     "output_type": "execute_result"
    }
   ],
   "source": [
    "wfdata"
   ]
  },
  {
   "cell_type": "code",
   "execution_count": 145,
   "metadata": {},
   "outputs": [],
   "source": [
    "def plotReturn(symbol, start, end):\n",
    "    df = pandas.DataFrame([stockReturn(symbol, i)*100 for i in range(start, end+1)])\n",
    "    p = df.plot()"
   ]
  },
  {
   "cell_type": "code",
   "execution_count": 146,
   "metadata": {},
   "outputs": [
    {
     "name": "stdout",
     "output_type": "stream",
     "text": [
      "0.8703703703703703\n"
     ]
    }
   ],
   "source": [
    "wfreturn = stockReturn(\"AAL\", 2013)\n",
    "print(wfreturn)"
   ]
  },
  {
   "cell_type": "code",
   "execution_count": 154,
   "metadata": {},
   "outputs": [
    {
     "data": {
      "image/png": "[encoded data removed]",
      "text/plain": [
       "<Figure size 432x288 with 1 Axes>"
      ]
     },
     "metadata": {
      "needs_background": "light"
     },
     "output_type": "display_data"
    }
   ],
   "source": [
    "plotReturn(\"NVDA\", 2014, 2020)"
   ]
  },
  {
   "cell_type": "code",
   "execution_count": 113,
   "metadata": {},
   "outputs": [
    {
     "name": "stdout",
     "output_type": "stream",
     "text": [
      "1. open      3.318000e+01\n",
      "2. high      3.519000e+01\n",
      "3. low       3.241000e+01\n",
      "4. close     3.418000e+01\n",
      "5. volume    4.658660e+08\n",
      "Name: 2012-12-31 00:00:00, dtype: float64\n"
     ]
    }
   ],
   "source": [
    "initialdate = str(2012)+\"-12\"\n",
    "keys = pandas.Index(monthlydata.keys().to_period(\"M\"))\n",
    "initialdate = keys.get_loc(initialdate)\n",
    "print(monthlydata[monthlydata.keys()[initialdate]])"
   ]
  }
 ],
 "metadata": {
  "kernelspec": {
   "display_name": "Python 3",
   "language": "python",
   "name": "python3"
  },
  "language_info": {
   "codemirror_mode": {
    "name": "ipython",
    "version": 3
   },
   "file_extension": ".py",
   "mimetype": "text/x-python",
   "name": "python",
   "nbconvert_exporter": "python",
   "pygments_lexer": "ipython3",
   "version": "3.7.4"
  }
 },
 "nbformat": 4,
 "nbformat_minor": 4
}
